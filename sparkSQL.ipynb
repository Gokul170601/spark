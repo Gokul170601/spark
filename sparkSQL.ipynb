{
 "cells": [
  {
   "cell_type": "code",
   "execution_count": 27,
   "id": "1ac5fd56-d095-4a35-9373-93645df97f88",
   "metadata": {},
   "outputs": [],
   "source": [
    "from pyspark.sql import SparkSession\n",
    "from pyspark.sql.functions import col,desc"
   ]
  },
  {
   "cell_type": "code",
   "execution_count": 2,
   "id": "f0d8dedf-4644-4288-8c95-eb963f4384f7",
   "metadata": {},
   "outputs": [],
   "source": [
    "spark=SparkSession.builder.appName('Practise').getOrCreate()"
   ]
  },
  {
   "cell_type": "code",
   "execution_count": 3,
   "id": "d9e53601-f9cf-4bd3-bcdc-3659d246cc9a",
   "metadata": {},
   "outputs": [
    {
     "data": {
      "text/html": [
       "\n",
       "            <div>\n",
       "                <p><b>SparkSession - in-memory</b></p>\n",
       "                \n",
       "        <div>\n",
       "            <p><b>SparkContext</b></p>\n",
       "\n",
       "            <p><a href=\"http://192.168.1.40:4040\">Spark UI</a></p>\n",
       "\n",
       "            <dl>\n",
       "              <dt>Version</dt>\n",
       "                <dd><code>v3.5.2</code></dd>\n",
       "              <dt>Master</dt>\n",
       "                <dd><code>local[*]</code></dd>\n",
       "              <dt>AppName</dt>\n",
       "                <dd><code>Practise</code></dd>\n",
       "            </dl>\n",
       "        </div>\n",
       "        \n",
       "            </div>\n",
       "        "
      ],
      "text/plain": [
       "<pyspark.sql.session.SparkSession at 0x194ffca8dd0>"
      ]
     },
     "execution_count": 3,
     "metadata": {},
     "output_type": "execute_result"
    }
   ],
   "source": [
    "spark"
   ]
  },
  {
   "cell_type": "code",
   "execution_count": 4,
   "id": "12c04129-0bfc-419c-a8e9-90bd43da2c59",
   "metadata": {},
   "outputs": [
    {
     "name": "stdout",
     "output_type": "stream",
     "text": [
      "3.5.2\n"
     ]
    }
   ],
   "source": [
    "print(spark.version)"
   ]
  },
  {
   "cell_type": "code",
   "execution_count": 14,
   "id": "090a8f04-8682-41fe-8a31-094b0aa1054a",
   "metadata": {},
   "outputs": [],
   "source": [
    "data = spark.read.format('csv').\\\n",
    "option('inferSchema','true').\\\n",
    "option('header','true').\\\n",
    "option('path','operations_management.csv').\\\n",
    "load()"
   ]
  },
  {
   "cell_type": "code",
   "execution_count": 16,
   "id": "6831476f-7e37-4477-b5e9-321208632aa2",
   "metadata": {},
   "outputs": [
    {
     "name": "stdout",
     "output_type": "stream",
     "text": [
      "root\n",
      " |-- description: string (nullable = true)\n",
      " |-- industry: string (nullable = true)\n",
      " |-- level: integer (nullable = true)\n",
      " |-- size: string (nullable = true)\n",
      " |-- line_code: string (nullable = true)\n",
      " |-- value: integer (nullable = true)\n",
      "\n"
     ]
    }
   ],
   "source": [
    "data.printSchema()"
   ]
  },
  {
   "cell_type": "code",
   "execution_count": 17,
   "id": "bbe81f24-821c-4265-b8f0-bac87a3e1358",
   "metadata": {},
   "outputs": [],
   "source": [
    "df=spark.read.csv('operations_management.csv',inferSchema=True,header=True)"
   ]
  },
  {
   "cell_type": "code",
   "execution_count": 20,
   "id": "4302b4d5-67cd-499c-9342-2d5af3ddcc17",
   "metadata": {},
   "outputs": [
    {
     "name": "stdout",
     "output_type": "stream",
     "text": [
      "+--------------------+--------------------+-----+---------------+---------+-----+\n",
      "|         description|            industry|level|           size|line_code|value|\n",
      "+--------------------+--------------------+-----+---------------+---------+-----+\n",
      "|Awareness of clim...|               total|    0| 6–19 employees| C0300.01|13080|\n",
      "|Awareness of clim...|               total|    0|20–49 employees| C0300.01| 3348|\n",
      "|Awareness of clim...|               total|    0|50–99 employees| C0300.01| 1089|\n",
      "|Awareness of clim...|               total|    0| 100+ employees| C0300.01| 1023|\n",
      "|Awareness of clim...|Agriculture, fore...|    1|          total| C0300.01| 2364|\n",
      "|Awareness of clim...|         Agriculture|    2|          total| C0300.01| 1683|\n",
      "|Awareness of clim...|  Commercial fishing|    2|          total| C0300.01|   27|\n",
      "|Awareness of clim...|  Forestry & logging|    2|          total| C0300.01|  126|\n",
      "|Awareness of clim...|Agriculture, fore...|    2|          total| C0300.01|  528|\n",
      "|Awareness of clim...|              Mining|    1|          total| C0300.01|   72|\n",
      "|Awareness of clim...|       Manufacturing|    1|          total| C0300.01| 1971|\n",
      "|Awareness of clim...|Food, beverage, &...|    2|          total| C0300.01|  588|\n",
      "|Awareness of clim...|Textile, clothing...|    2|          total| C0300.01|   96|\n",
      "|Awareness of clim...|Wood & paper product|    2|          total| C0300.01|  156|\n",
      "|Awareness of clim...|Printing, publish...|    2|          total| C0300.01|   72|\n",
      "|Awareness of clim...|Petroleum, coal, ...|    2|          total| C0300.01|  189|\n",
      "|Awareness of clim...|Non-metallic mine...|    2|          total| C0300.01|  108|\n",
      "|Awareness of clim...|       Metal product|    2|          total| C0300.01|  246|\n",
      "|Awareness of clim...|Transport and ind...|    2|          total| C0300.01|  285|\n",
      "|Awareness of clim...|Other machinery &...|    2|          total| C0300.01|  117|\n",
      "+--------------------+--------------------+-----+---------------+---------+-----+\n",
      "only showing top 20 rows\n",
      "\n"
     ]
    }
   ],
   "source": [
    "df.show()"
   ]
  },
  {
   "cell_type": "code",
   "execution_count": 31,
   "id": "b984e415-9210-4026-a2f0-9926f33f8007",
   "metadata": {},
   "outputs": [],
   "source": [
    "df_new=df.select('industry','value').filter((col('value') > 500) & (col('industry')!= 'total')).orderBy(desc('value'))"
   ]
  },
  {
   "cell_type": "code",
   "execution_count": 32,
   "id": "806590b4-5988-4343-b684-f65ba236f073",
   "metadata": {},
   "outputs": [
    {
     "name": "stdout",
     "output_type": "stream",
     "text": [
      "+--------------------+-----+\n",
      "|            industry|value|\n",
      "+--------------------+-----+\n",
      "|        Construction| 6030|\n",
      "|        Construction| 5904|\n",
      "|        Construction| 5229|\n",
      "|Accommodation & f...| 5058|\n",
      "|        Construction| 4965|\n",
      "|        Construction| 4959|\n",
      "|Accommodation & f...| 4950|\n",
      "|        Construction| 4686|\n",
      "|        Construction| 4668|\n",
      "|        Construction| 4665|\n",
      "+--------------------+-----+\n",
      "only showing top 10 rows\n",
      "\n"
     ]
    }
   ],
   "source": [
    "df_new.show(10)"
   ]
  },
  {
   "cell_type": "code",
   "execution_count": 33,
   "id": "9f6ad355-1ce0-489b-b911-3feb3425c3cc",
   "metadata": {},
   "outputs": [],
   "source": [
    "df_filtered=df.filter(df['value']>15000)"
   ]
  },
  {
   "cell_type": "code",
   "execution_count": 34,
   "id": "1011818f-af35-4659-bc5b-4c3d67ae54aa",
   "metadata": {},
   "outputs": [
    {
     "name": "stdout",
     "output_type": "stream",
     "text": [
      "+--------------------+--------+-----+--------------+---------+-----+\n",
      "|         description|industry|level|          size|line_code|value|\n",
      "+--------------------+--------+-----+--------------+---------+-----+\n",
      "|Awareness of clim...|   total|    0|         total| C0300.01|18540|\n",
      "|Awareness of clim...|   total|    0|6–19 employees| C0300.02|15810|\n",
      "|Awareness of clim...|   total|    0|         total| C0300.02|21417|\n",
      "|Awareness of gove...|   total|    0|6–19 employees| C0400.02|19209|\n",
      "+--------------------+--------+-----+--------------+---------+-----+\n",
      "only showing top 4 rows\n",
      "\n"
     ]
    }
   ],
   "source": [
    "df_filtered.show(4)"
   ]
  },
  {
   "cell_type": "code",
   "execution_count": 35,
   "id": "7b4d6ce8-c36d-47ac-a53f-59d26e3f1be1",
   "metadata": {},
   "outputs": [],
   "source": [
    "df_group=df.groupby('industry').agg({'value':'avg'})"
   ]
  },
  {
   "cell_type": "code",
   "execution_count": 37,
   "id": "809bc7ca-7d8d-4274-bfbd-ce0446aa8387",
   "metadata": {},
   "outputs": [
    {
     "name": "stdout",
     "output_type": "stream",
     "text": [
      "+--------------------+------------------+\n",
      "|            industry|        avg(value)|\n",
      "+--------------------+------------------+\n",
      "|Machinery & equip...|186.99303135888502|\n",
      "|Arts & recreation...|100.21254355400697|\n",
      "|           Insurance| 7.808362369337979|\n",
      "|Education & training|210.86759581881532|\n",
      "|Textile, clothing...|50.926829268292686|\n",
      "|              Mining| 23.62369337979094|\n",
      "|Other wholesale t...|445.25435540069685|\n",
      "|          Publishing|29.822299651567945|\n",
      "|  Commercial fishing| 10.19163763066202|\n",
      "|             Finance| 39.90940766550523|\n",
      "|Information media...|  83.1637630662021|\n",
      "|Administrative & ...| 341.2369337979094|\n",
      "|Computer systems ...|180.06271777003485|\n",
      "|     Wholesale trade| 633.9721254355401|\n",
      "|        Retail trade| 965.4355400696865|\n",
      "|Agriculture, fore...| 194.1219512195122|\n",
      "|Other machinery &...|48.930313588850176|\n",
      "|        Construction|  1297.98606271777|\n",
      "|      Other services| 267.9721254355401|\n",
      "|Printing, publish...| 44.55052264808362|\n",
      "+--------------------+------------------+\n",
      "only showing top 20 rows\n",
      "\n"
     ]
    }
   ],
   "source": [
    "df_group.show()"
   ]
  },
  {
   "cell_type": "code",
   "execution_count": 38,
   "id": "0872072b-1144-4c94-9846-9f7001e11ff4",
   "metadata": {},
   "outputs": [],
   "source": [
    "df.createOrReplaceTempView('df')"
   ]
  },
  {
   "cell_type": "code",
   "execution_count": 39,
   "id": "b6b34ea5-399d-48f9-afef-e0d3029f5b50",
   "metadata": {},
   "outputs": [
    {
     "name": "stdout",
     "output_type": "stream",
     "text": [
      "+--------------------+-----+\n",
      "|            industry|value|\n",
      "+--------------------+-----+\n",
      "|  Commercial fishing|   27|\n",
      "|  Forestry & logging|  126|\n",
      "|              Mining|   72|\n",
      "|Textile, clothing...|   96|\n",
      "|Wood & paper product|  156|\n",
      "|Printing, publish...|   72|\n",
      "|Petroleum, coal, ...|  189|\n",
      "|Non-metallic mine...|  108|\n",
      "|       Metal product|  246|\n",
      "|Transport and ind...|  285|\n",
      "+--------------------+-----+\n",
      "only showing top 10 rows\n",
      "\n"
     ]
    }
   ],
   "source": [
    "spark.sql('SELECT industry,value FROM df WHERE value < 500 and industry !=\"total\"').show(10)"
   ]
  },
  {
   "cell_type": "code",
   "execution_count": null,
   "id": "8a8c176e-5978-4074-9062-6ad09ecfd362",
   "metadata": {},
   "outputs": [],
   "source": []
  }
 ],
 "metadata": {
  "kernelspec": {
   "display_name": "Python 3 (ipykernel)",
   "language": "python",
   "name": "python3"
  },
  "language_info": {
   "codemirror_mode": {
    "name": "ipython",
    "version": 3
   },
   "file_extension": ".py",
   "mimetype": "text/x-python",
   "name": "python",
   "nbconvert_exporter": "python",
   "pygments_lexer": "ipython3",
   "version": "3.12.4"
  }
 },
 "nbformat": 4,
 "nbformat_minor": 5
}
